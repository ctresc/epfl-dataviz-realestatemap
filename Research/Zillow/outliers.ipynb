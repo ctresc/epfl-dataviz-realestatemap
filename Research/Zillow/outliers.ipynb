{
 "cells": [
  {
   "cell_type": "code",
   "execution_count": 34,
   "metadata": {
    "collapsed": false
   },
   "outputs": [],
   "source": [
    "%matplotlib inline\n",
    "import pandas as pd\n",
    "import matplotlib.pyplot as plt\n",
    "import numpy as np"
   ]
  },
  {
   "cell_type": "code",
   "execution_count": 3,
   "metadata": {
    "collapsed": true
   },
   "outputs": [],
   "source": [
    "df = pd.read_csv('County_Zhvi_AllHomes_Formatted.csv', na_values=['0.0']) # ZHVI All Homes (SFR, Condo/Co-op) Time Series ($) with ZIP CODE resolution"
   ]
  },
  {
   "cell_type": "code",
   "execution_count": 6,
   "metadata": {
    "collapsed": false
   },
   "outputs": [
    {
     "data": {
      "text/html": [
       "<div>\n",
       "<table border=\"1\" class=\"dataframe\">\n",
       "  <thead>\n",
       "    <tr style=\"text-align: right;\">\n",
       "      <th></th>\n",
       "      <th>Idx</th>\n",
       "      <th>CountyCodeFIPS</th>\n",
       "      <th>RegionName</th>\n",
       "      <th>State</th>\n",
       "      <th>Metro</th>\n",
       "      <th>SizeRank</th>\n",
       "      <th>1996-04</th>\n",
       "      <th>1996-05</th>\n",
       "      <th>1996-06</th>\n",
       "      <th>1996-07</th>\n",
       "      <th>...</th>\n",
       "      <th>2016-12</th>\n",
       "      <th>2017-01</th>\n",
       "      <th>2017-02</th>\n",
       "      <th>2017-03</th>\n",
       "      <th>2017-04</th>\n",
       "      <th>2017-05</th>\n",
       "      <th>2017-06</th>\n",
       "      <th>2017-07</th>\n",
       "      <th>2017-08</th>\n",
       "      <th>2017-09</th>\n",
       "    </tr>\n",
       "  </thead>\n",
       "  <tbody>\n",
       "    <tr>\n",
       "      <th>950</th>\n",
       "      <td>950.0</td>\n",
       "      <td>29027</td>\n",
       "      <td>Callaway</td>\n",
       "      <td>MO</td>\n",
       "      <td>Jefferson City</td>\n",
       "      <td>951</td>\n",
       "      <td>NaN</td>\n",
       "      <td>NaN</td>\n",
       "      <td>NaN</td>\n",
       "      <td>NaN</td>\n",
       "      <td>...</td>\n",
       "      <td>142200.0</td>\n",
       "      <td>143300</td>\n",
       "      <td>143400</td>\n",
       "      <td>144200</td>\n",
       "      <td>141500</td>\n",
       "      <td>135200</td>\n",
       "      <td>132300</td>\n",
       "      <td>135800</td>\n",
       "      <td>140000</td>\n",
       "      <td>142400</td>\n",
       "    </tr>\n",
       "    <tr>\n",
       "      <th>899</th>\n",
       "      <td>899.0</td>\n",
       "      <td>28105</td>\n",
       "      <td>Oktibbeha</td>\n",
       "      <td>MS</td>\n",
       "      <td>Starkville</td>\n",
       "      <td>900</td>\n",
       "      <td>NaN</td>\n",
       "      <td>NaN</td>\n",
       "      <td>NaN</td>\n",
       "      <td>NaN</td>\n",
       "      <td>...</td>\n",
       "      <td>170400.0</td>\n",
       "      <td>171400</td>\n",
       "      <td>174300</td>\n",
       "      <td>177900</td>\n",
       "      <td>179900</td>\n",
       "      <td>180900</td>\n",
       "      <td>181400</td>\n",
       "      <td>181500</td>\n",
       "      <td>181400</td>\n",
       "      <td>181500</td>\n",
       "    </tr>\n",
       "    <tr>\n",
       "      <th>502</th>\n",
       "      <td>502.0</td>\n",
       "      <td>18167</td>\n",
       "      <td>Vigo</td>\n",
       "      <td>IN</td>\n",
       "      <td>Terre Haute</td>\n",
       "      <td>503</td>\n",
       "      <td>59500.0</td>\n",
       "      <td>60400.0</td>\n",
       "      <td>60000.0</td>\n",
       "      <td>58800.0</td>\n",
       "      <td>...</td>\n",
       "      <td>75600.0</td>\n",
       "      <td>75900</td>\n",
       "      <td>76100</td>\n",
       "      <td>76100</td>\n",
       "      <td>76100</td>\n",
       "      <td>76100</td>\n",
       "      <td>75900</td>\n",
       "      <td>75900</td>\n",
       "      <td>75700</td>\n",
       "      <td>75400</td>\n",
       "    </tr>\n",
       "    <tr>\n",
       "      <th>1543</th>\n",
       "      <td>1543.0</td>\n",
       "      <td>16043</td>\n",
       "      <td>Fremont</td>\n",
       "      <td>ID</td>\n",
       "      <td>Rexburg</td>\n",
       "      <td>1544</td>\n",
       "      <td>167500.0</td>\n",
       "      <td>167500.0</td>\n",
       "      <td>167500.0</td>\n",
       "      <td>167400.0</td>\n",
       "      <td>...</td>\n",
       "      <td>161800.0</td>\n",
       "      <td>161700</td>\n",
       "      <td>162300</td>\n",
       "      <td>164300</td>\n",
       "      <td>167600</td>\n",
       "      <td>171600</td>\n",
       "      <td>174700</td>\n",
       "      <td>176100</td>\n",
       "      <td>176500</td>\n",
       "      <td>176500</td>\n",
       "    </tr>\n",
       "    <tr>\n",
       "      <th>736</th>\n",
       "      <td>736.0</td>\n",
       "      <td>13047</td>\n",
       "      <td>Catoosa</td>\n",
       "      <td>GA</td>\n",
       "      <td>Chattanooga</td>\n",
       "      <td>737</td>\n",
       "      <td>NaN</td>\n",
       "      <td>NaN</td>\n",
       "      <td>NaN</td>\n",
       "      <td>NaN</td>\n",
       "      <td>...</td>\n",
       "      <td>126300.0</td>\n",
       "      <td>126600</td>\n",
       "      <td>127000</td>\n",
       "      <td>128000</td>\n",
       "      <td>129200</td>\n",
       "      <td>129900</td>\n",
       "      <td>130400</td>\n",
       "      <td>131300</td>\n",
       "      <td>131800</td>\n",
       "      <td>131800</td>\n",
       "    </tr>\n",
       "  </tbody>\n",
       "</table>\n",
       "<p>5 rows × 264 columns</p>\n",
       "</div>"
      ],
      "text/plain": [
       "         Idx  CountyCodeFIPS RegionName State           Metro  SizeRank  \\\n",
       "950    950.0           29027   Callaway    MO  Jefferson City       951   \n",
       "899    899.0           28105  Oktibbeha    MS      Starkville       900   \n",
       "502    502.0           18167       Vigo    IN     Terre Haute       503   \n",
       "1543  1543.0           16043    Fremont    ID         Rexburg      1544   \n",
       "736    736.0           13047    Catoosa    GA     Chattanooga       737   \n",
       "\n",
       "       1996-04   1996-05   1996-06   1996-07   ...      2016-12  2017-01  \\\n",
       "950        NaN       NaN       NaN       NaN   ...     142200.0   143300   \n",
       "899        NaN       NaN       NaN       NaN   ...     170400.0   171400   \n",
       "502    59500.0   60400.0   60000.0   58800.0   ...      75600.0    75900   \n",
       "1543  167500.0  167500.0  167500.0  167400.0   ...     161800.0   161700   \n",
       "736        NaN       NaN       NaN       NaN   ...     126300.0   126600   \n",
       "\n",
       "      2017-02  2017-03  2017-04  2017-05  2017-06  2017-07  2017-08  2017-09  \n",
       "950    143400   144200   141500   135200   132300   135800   140000   142400  \n",
       "899    174300   177900   179900   180900   181400   181500   181400   181500  \n",
       "502     76100    76100    76100    76100    75900    75900    75700    75400  \n",
       "1543   162300   164300   167600   171600   174700   176100   176500   176500  \n",
       "736    127000   128000   129200   129900   130400   131300   131800   131800  \n",
       "\n",
       "[5 rows x 264 columns]"
      ]
     },
     "execution_count": 6,
     "metadata": {},
     "output_type": "execute_result"
    }
   ],
   "source": [
    "df.sample(5)"
   ]
  },
  {
   "cell_type": "code",
   "execution_count": 43,
   "metadata": {
    "collapsed": false,
    "scrolled": false
   },
   "outputs": [
    {
     "data": {
      "image/png": "[encoded data removed]",
      "text/plain": [
       "<matplotlib.figure.Figure at 0x255d3400>"
      ]
     },
     "metadata": {},
     "output_type": "display_data"
    }
   ],
   "source": [
    "fig = plt.figure(figsize=(18, 10))\n",
    "vals = df.iloc[:,6:].values.flatten()\n",
    "vals = vals[~np.isnan(vals)]\n",
    "hst = plt.hist(vals, bins=100)"
   ]
  },
  {
   "cell_type": "code",
   "execution_count": 45,
   "metadata": {
    "collapsed": false
   },
   "outputs": [
    {
     "name": "stdout",
     "output_type": "stream",
     "text": [
      "367527\n",
      "643\n"
     ]
    }
   ],
   "source": [
    "print(len(vals))\n",
    "tmp = vals[vals > 800000]\n",
    "print(len(tmp))"
   ]
  },
  {
   "cell_type": "code",
   "execution_count": 48,
   "metadata": {
    "collapsed": false
   },
   "outputs": [
    {
     "data": {
      "text/plain": [
       "90336.860678384735"
      ]
     },
     "execution_count": 48,
     "metadata": {},
     "output_type": "execute_result"
    }
   ],
   "source": [
    "vals_std = np.std(vals)\n",
    "vals_std"
   ]
  },
  {
   "cell_type": "code",
   "execution_count": 49,
   "metadata": {
    "collapsed": false
   },
   "outputs": [
    {
     "data": {
      "text/plain": [
       "142035.46460532153"
      ]
     },
     "execution_count": 49,
     "metadata": {},
     "output_type": "execute_result"
    }
   ],
   "source": [
    "vals_mean = np.mean(vals)\n",
    "vals_mean"
   ]
  },
  {
   "cell_type": "code",
   "execution_count": 52,
   "metadata": {
    "collapsed": false
   },
   "outputs": [
    {
     "data": {
      "text/plain": [
       "413046.04664047575"
      ]
     },
     "execution_count": 52,
     "metadata": {},
     "output_type": "execute_result"
    }
   ],
   "source": [
    "bound = vals_mean + 3 * vals_std\n",
    "bound"
   ]
  },
  {
   "cell_type": "code",
   "execution_count": 53,
   "metadata": {
    "collapsed": false
   },
   "outputs": [
    {
     "name": "stdout",
     "output_type": "stream",
     "text": [
      "6671\n"
     ]
    }
   ],
   "source": [
    "tmp = vals[vals > bound]\n",
    "print(len(tmp))"
   ]
  },
  {
   "cell_type": "code",
   "execution_count": 55,
   "metadata": {
    "collapsed": false
   },
   "outputs": [
    {
     "data": {
      "text/plain": [
       "119800.0"
      ]
     },
     "execution_count": 55,
     "metadata": {},
     "output_type": "execute_result"
    }
   ],
   "source": [
    "vals_median = np.median(vals)\n",
    "vals_median"
   ]
  },
  {
   "cell_type": "code",
   "execution_count": 56,
   "metadata": {
    "collapsed": false
   },
   "outputs": [
    {
     "data": {
      "text/plain": [
       "390810.58203515422"
      ]
     },
     "execution_count": 56,
     "metadata": {},
     "output_type": "execute_result"
    }
   ],
   "source": [
    "bound = vals_median + 3 * vals_std\n",
    "bound"
   ]
  },
  {
   "cell_type": "code",
   "execution_count": 57,
   "metadata": {
    "collapsed": false
   },
   "outputs": [
    {
     "name": "stdout",
     "output_type": "stream",
     "text": [
      "8203\n"
     ]
    }
   ],
   "source": [
    "tmp = vals[vals > bound]\n",
    "print(len(tmp))"
   ]
  },
  {
   "cell_type": "code",
   "execution_count": 58,
   "metadata": {
    "collapsed": false
   },
   "outputs": [
    {
     "data": {
      "text/plain": [
       "239600.0"
      ]
     },
     "execution_count": 58,
     "metadata": {},
     "output_type": "execute_result"
    }
   ],
   "source": [
    "bound = vals_median * 2\n",
    "bound"
   ]
  },
  {
   "cell_type": "code",
   "execution_count": 59,
   "metadata": {
    "collapsed": false
   },
   "outputs": [
    {
     "name": "stdout",
     "output_type": "stream",
     "text": [
      "33930\n"
     ]
    }
   ],
   "source": [
    "tmp = vals[vals > bound]\n",
    "print(len(tmp))"
   ]
  },
  {
   "cell_type": "code",
   "execution_count": 60,
   "metadata": {
    "collapsed": false
   },
   "outputs": [
    {
     "data": {
      "text/plain": [
       "1501300.0"
      ]
     },
     "execution_count": 60,
     "metadata": {},
     "output_type": "execute_result"
    }
   ],
   "source": [
    "np.max(vals)"
   ]
  },
  {
   "cell_type": "code",
   "execution_count": 68,
   "metadata": {
    "collapsed": false
   },
   "outputs": [
    {
     "data": {
      "text/plain": [
       "306"
      ]
     },
     "execution_count": 68,
     "metadata": {},
     "output_type": "execute_result"
    }
   ],
   "source": [
    "len(vals[vals > 1000000])"
   ]
  },
  {
   "cell_type": "code",
   "execution_count": 63,
   "metadata": {
    "collapsed": false
   },
   "outputs": [
    {
     "data": {
      "text/plain": [
       "1000000"
      ]
     },
     "execution_count": 63,
     "metadata": {},
     "output_type": "execute_result"
    }
   ],
   "source": [
    "10**6"
   ]
  },
  {
   "cell_type": "code",
   "execution_count": 75,
   "metadata": {
    "collapsed": false
   },
   "outputs": [
    {
     "data": {
      "image/png": "[encoded data removed]",
      "text/plain": [
       "<matplotlib.figure.Figure at 0x27bbdfd0>"
      ]
     },
     "metadata": {},
     "output_type": "display_data"
    }
   ],
   "source": [
    "fig = plt.figure(figsize=(18, 10))\n",
    "hst = plt.hist(vals[vals > 500000], bins=100)"
   ]
  },
  {
   "cell_type": "code",
   "execution_count": null,
   "metadata": {
    "collapsed": true
   },
   "outputs": [],
   "source": []
  }
 ],
 "metadata": {
  "kernelspec": {
   "display_name": "Python 3.5 64bit",
   "language": "python",
   "name": "python35"
  },
  "language_info": {
   "codemirror_mode": {
    "name": "ipython",
    "version": 3
   },
   "file_extension": ".py",
   "mimetype": "text/x-python",
   "name": "python",
   "nbconvert_exporter": "python",
   "pygments_lexer": "ipython3",
   "version": "3.5.2"
  }
 },
 "nbformat": 4,
 "nbformat_minor": 1
}
